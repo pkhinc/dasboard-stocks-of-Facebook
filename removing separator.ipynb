{
 "cells": [
  {
   "cell_type": "code",
   "execution_count": null,
   "metadata": {},
   "outputs": [],
   "source": [
    "import pandas as pd\n",
    "\n",
    "def remove_thousands_separator(data: str) -> float:\n",
    "    return float(data.replace(',', ''))\n",
    "\n",
    "me = pd.read_csv(\n",
    "    'data\\macroeconomicsPL.csv',\n",
    "    parse_dates=['DATE'], \n",
    "    index_col=\"DATE\",      \n",
    "    dayfirst=True,   \n",
    "    skipfooter=3,   \n",
    "    engine='python',    \n",
    "    na_values={    \n",
    "        'SPD': '-99',\n",
    "    },\n",
    ").rename(columns={\n",
    "    'sr_NBP':'SR',\n",
    "    'WIBOR 3M':'WIBOR',\n",
    "}).assign(      # w jednym wywolanii assign mozna stworzyc kilka kolumn\n",
    "    DIFF=lambda x: x['SR'] - x['CPI'],  # odwolujemy sie do zmiennej x, bo zmienna me jeszcze nie istenieje - my ja wlasnie tworzymy\n",
    "    RB=lambda x: x['RB'].map(remove_thousands_separator),\n",
    ")\n",
    "\n",
    "me.info()"
   ]
  }
 ],
 "metadata": {
  "language_info": {
   "name": "python"
  }
 },
 "nbformat": 4,
 "nbformat_minor": 2
}
